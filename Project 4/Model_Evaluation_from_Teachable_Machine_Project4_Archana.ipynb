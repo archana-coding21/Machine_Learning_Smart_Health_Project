{
  "nbformat": 4,
  "nbformat_minor": 0,
  "metadata": {
    "colab": {
      "name": "Evaluation the Model from Teachable Machine_Project4_Archana.ipynb",
      "provenance": [],
      "collapsed_sections": []
    },
    "kernelspec": {
      "name": "python3",
      "display_name": "Python 3"
    },
    "language_info": {
      "name": "python"
    }
  },
  "cells": [
    {
      "cell_type": "markdown",
      "source": [
        "Preparing the dataset same as the one uploaded into the Teachable Machine so as to evaluate the performance and metrics.\n",
        "\n",
        "All 40 files from the Cough class and 40 files from the Non-Cough class have been considered.\n",
        "\n",
        "The Downloaded model is available in the path /content/drive/MyDrive/keras_model.h5"
      ],
      "metadata": {
        "id": "LYZ7p6Atm6Tp"
      }
    },
    {
      "cell_type": "code",
      "source": [
        "# Importing the required dataset\n",
        "import pandas as pd\n",
        "import matplotlib.pyplot as plt\n",
        "import seaborn as sns\n",
        "\n",
        "audio_files='/content/drive/MyDrive/ESC-50-master/audio/'\n",
        "metadata=pd.read_csv('/content/drive/MyDrive/ESC-50-master/meta/esc50.csv')\n",
        "metadata.head()"
      ],
      "metadata": {
        "id": "qpue6BGchkTi",
        "colab": {
          "base_uri": "https://localhost:8080/",
          "height": 206
        },
        "outputId": "fe85c4c6-5f01-44e9-a6b7-086c05bc0fb6"
      },
      "execution_count": 40,
      "outputs": [
        {
          "output_type": "execute_result",
          "data": {
            "text/html": [
              "<div>\n",
              "<style scoped>\n",
              "    .dataframe tbody tr th:only-of-type {\n",
              "        vertical-align: middle;\n",
              "    }\n",
              "\n",
              "    .dataframe tbody tr th {\n",
              "        vertical-align: top;\n",
              "    }\n",
              "\n",
              "    .dataframe thead th {\n",
              "        text-align: right;\n",
              "    }\n",
              "</style>\n",
              "<table border=\"1\" class=\"dataframe\">\n",
              "  <thead>\n",
              "    <tr style=\"text-align: right;\">\n",
              "      <th></th>\n",
              "      <th>filename</th>\n",
              "      <th>fold</th>\n",
              "      <th>target</th>\n",
              "      <th>category</th>\n",
              "      <th>esc10</th>\n",
              "      <th>src_file</th>\n",
              "      <th>take</th>\n",
              "    </tr>\n",
              "  </thead>\n",
              "  <tbody>\n",
              "    <tr>\n",
              "      <th>0</th>\n",
              "      <td>1-100032-A-0.wav</td>\n",
              "      <td>1</td>\n",
              "      <td>0</td>\n",
              "      <td>dog</td>\n",
              "      <td>True</td>\n",
              "      <td>100032</td>\n",
              "      <td>A</td>\n",
              "    </tr>\n",
              "    <tr>\n",
              "      <th>1</th>\n",
              "      <td>1-100038-A-14.wav</td>\n",
              "      <td>1</td>\n",
              "      <td>14</td>\n",
              "      <td>chirping_birds</td>\n",
              "      <td>False</td>\n",
              "      <td>100038</td>\n",
              "      <td>A</td>\n",
              "    </tr>\n",
              "    <tr>\n",
              "      <th>2</th>\n",
              "      <td>1-100210-A-36.wav</td>\n",
              "      <td>1</td>\n",
              "      <td>36</td>\n",
              "      <td>vacuum_cleaner</td>\n",
              "      <td>False</td>\n",
              "      <td>100210</td>\n",
              "      <td>A</td>\n",
              "    </tr>\n",
              "    <tr>\n",
              "      <th>3</th>\n",
              "      <td>1-100210-B-36.wav</td>\n",
              "      <td>1</td>\n",
              "      <td>36</td>\n",
              "      <td>vacuum_cleaner</td>\n",
              "      <td>False</td>\n",
              "      <td>100210</td>\n",
              "      <td>B</td>\n",
              "    </tr>\n",
              "    <tr>\n",
              "      <th>4</th>\n",
              "      <td>1-101296-A-19.wav</td>\n",
              "      <td>1</td>\n",
              "      <td>19</td>\n",
              "      <td>thunderstorm</td>\n",
              "      <td>False</td>\n",
              "      <td>101296</td>\n",
              "      <td>A</td>\n",
              "    </tr>\n",
              "  </tbody>\n",
              "</table>\n",
              "</div>"
            ],
            "text/plain": [
              "            filename  fold  target        category  esc10  src_file take\n",
              "0   1-100032-A-0.wav     1       0             dog   True    100032    A\n",
              "1  1-100038-A-14.wav     1      14  chirping_birds  False    100038    A\n",
              "2  1-100210-A-36.wav     1      36  vacuum_cleaner  False    100210    A\n",
              "3  1-100210-B-36.wav     1      36  vacuum_cleaner  False    100210    B\n",
              "4  1-101296-A-19.wav     1      19    thunderstorm  False    101296    A"
            ]
          },
          "metadata": {},
          "execution_count": 40
        }
      ]
    },
    {
      "cell_type": "code",
      "source": [
        "# Creating another dataframe for the metadata to hold only the audio file categories that we will need for our analysis (200 records)\n",
        "metadata_new1 = metadata['target'].isin(['24', '30', '10','0','22'])\n",
        "metadata_new = metadata[metadata_new1]\n",
        "metadata_new"
      ],
      "metadata": {
        "colab": {
          "base_uri": "https://localhost:8080/",
          "height": 424
        },
        "id": "fVyw5M17melF",
        "outputId": "70bd6f82-21ce-4985-d29f-a26f0a310d05"
      },
      "execution_count": 3,
      "outputs": [
        {
          "output_type": "execute_result",
          "data": {
            "text/html": [
              "<div>\n",
              "<style scoped>\n",
              "    .dataframe tbody tr th:only-of-type {\n",
              "        vertical-align: middle;\n",
              "    }\n",
              "\n",
              "    .dataframe tbody tr th {\n",
              "        vertical-align: top;\n",
              "    }\n",
              "\n",
              "    .dataframe thead th {\n",
              "        text-align: right;\n",
              "    }\n",
              "</style>\n",
              "<table border=\"1\" class=\"dataframe\">\n",
              "  <thead>\n",
              "    <tr style=\"text-align: right;\">\n",
              "      <th></th>\n",
              "      <th>filename</th>\n",
              "      <th>fold</th>\n",
              "      <th>target</th>\n",
              "      <th>category</th>\n",
              "      <th>esc10</th>\n",
              "      <th>src_file</th>\n",
              "      <th>take</th>\n",
              "    </tr>\n",
              "  </thead>\n",
              "  <tbody>\n",
              "    <tr>\n",
              "      <th>0</th>\n",
              "      <td>1-100032-A-0.wav</td>\n",
              "      <td>1</td>\n",
              "      <td>0</td>\n",
              "      <td>dog</td>\n",
              "      <td>True</td>\n",
              "      <td>100032</td>\n",
              "      <td>A</td>\n",
              "    </tr>\n",
              "    <tr>\n",
              "      <th>6</th>\n",
              "      <td>1-101336-A-30.wav</td>\n",
              "      <td>1</td>\n",
              "      <td>30</td>\n",
              "      <td>door_wood_knock</td>\n",
              "      <td>False</td>\n",
              "      <td>101336</td>\n",
              "      <td>A</td>\n",
              "    </tr>\n",
              "    <tr>\n",
              "      <th>9</th>\n",
              "      <td>1-103995-A-30.wav</td>\n",
              "      <td>1</td>\n",
              "      <td>30</td>\n",
              "      <td>door_wood_knock</td>\n",
              "      <td>False</td>\n",
              "      <td>103995</td>\n",
              "      <td>A</td>\n",
              "    </tr>\n",
              "    <tr>\n",
              "      <th>10</th>\n",
              "      <td>1-103999-A-30.wav</td>\n",
              "      <td>1</td>\n",
              "      <td>30</td>\n",
              "      <td>door_wood_knock</td>\n",
              "      <td>False</td>\n",
              "      <td>103999</td>\n",
              "      <td>A</td>\n",
              "    </tr>\n",
              "    <tr>\n",
              "      <th>11</th>\n",
              "      <td>1-104089-A-22.wav</td>\n",
              "      <td>1</td>\n",
              "      <td>22</td>\n",
              "      <td>clapping</td>\n",
              "      <td>False</td>\n",
              "      <td>104089</td>\n",
              "      <td>A</td>\n",
              "    </tr>\n",
              "    <tr>\n",
              "      <th>...</th>\n",
              "      <td>...</td>\n",
              "      <td>...</td>\n",
              "      <td>...</td>\n",
              "      <td>...</td>\n",
              "      <td>...</td>\n",
              "      <td>...</td>\n",
              "      <td>...</td>\n",
              "    </tr>\n",
              "    <tr>\n",
              "      <th>1949</th>\n",
              "      <td>5-251489-A-24.wav</td>\n",
              "      <td>5</td>\n",
              "      <td>24</td>\n",
              "      <td>coughing</td>\n",
              "      <td>False</td>\n",
              "      <td>251489</td>\n",
              "      <td>A</td>\n",
              "    </tr>\n",
              "    <tr>\n",
              "      <th>1965</th>\n",
              "      <td>5-254160-A-22.wav</td>\n",
              "      <td>5</td>\n",
              "      <td>22</td>\n",
              "      <td>clapping</td>\n",
              "      <td>False</td>\n",
              "      <td>254160</td>\n",
              "      <td>A</td>\n",
              "    </tr>\n",
              "    <tr>\n",
              "      <th>1969</th>\n",
              "      <td>5-256512-A-30.wav</td>\n",
              "      <td>5</td>\n",
              "      <td>30</td>\n",
              "      <td>door_wood_knock</td>\n",
              "      <td>False</td>\n",
              "      <td>256512</td>\n",
              "      <td>A</td>\n",
              "    </tr>\n",
              "    <tr>\n",
              "      <th>1988</th>\n",
              "      <td>5-262957-A-22.wav</td>\n",
              "      <td>5</td>\n",
              "      <td>22</td>\n",
              "      <td>clapping</td>\n",
              "      <td>False</td>\n",
              "      <td>262957</td>\n",
              "      <td>A</td>\n",
              "    </tr>\n",
              "    <tr>\n",
              "      <th>1999</th>\n",
              "      <td>5-9032-A-0.wav</td>\n",
              "      <td>5</td>\n",
              "      <td>0</td>\n",
              "      <td>dog</td>\n",
              "      <td>True</td>\n",
              "      <td>9032</td>\n",
              "      <td>A</td>\n",
              "    </tr>\n",
              "  </tbody>\n",
              "</table>\n",
              "<p>200 rows × 7 columns</p>\n",
              "</div>"
            ],
            "text/plain": [
              "               filename  fold  target         category  esc10  src_file take\n",
              "0      1-100032-A-0.wav     1       0              dog   True    100032    A\n",
              "6     1-101336-A-30.wav     1      30  door_wood_knock  False    101336    A\n",
              "9     1-103995-A-30.wav     1      30  door_wood_knock  False    103995    A\n",
              "10    1-103999-A-30.wav     1      30  door_wood_knock  False    103999    A\n",
              "11    1-104089-A-22.wav     1      22         clapping  False    104089    A\n",
              "...                 ...   ...     ...              ...    ...       ...  ...\n",
              "1949  5-251489-A-24.wav     5      24         coughing  False    251489    A\n",
              "1965  5-254160-A-22.wav     5      22         clapping  False    254160    A\n",
              "1969  5-256512-A-30.wav     5      30  door_wood_knock  False    256512    A\n",
              "1988  5-262957-A-22.wav     5      22         clapping  False    262957    A\n",
              "1999     5-9032-A-0.wav     5       0              dog   True      9032    A\n",
              "\n",
              "[200 rows x 7 columns]"
            ]
          },
          "metadata": {},
          "execution_count": 3
        }
      ]
    },
    {
      "cell_type": "code",
      "source": [
        "def extract_features(file_name):\n",
        "    audio, sample_rate = librosa.load(file_name, res_type='kaiser_fast') \n",
        "    mfccs_features = librosa.feature.mfcc(y=audio, sr=sample_rate, n_mfcc=20)\n",
        "    mfccs_scaled_features = np.mean(mfccs_features.T,axis=0)    \n",
        "    return mfccs_scaled_features"
      ],
      "metadata": {
        "id": "1etZYczkmjvy"
      },
      "execution_count": 4,
      "outputs": []
    },
    {
      "cell_type": "code",
      "source": [
        "import numpy as np\n",
        "import librosa\n",
        "import os\n",
        "from tqdm import tqdm  #  Instantly make your loops show a smart progress meter\n",
        "# Now we iterate through every audio file in the metadata and extract features for each audio file\n",
        "extracted_features=[]\n",
        "for i,row in tqdm(metadata_new.iterrows()):\n",
        "    file_name = os.path.join(os.path.abspath(audio_files),str(row[\"filename\"]))\n",
        "    class_name=row[\"category\"]\n",
        "    data=extract_features(file_name)\n",
        "    extracted_features.append([data,class_name])"
      ],
      "metadata": {
        "colab": {
          "base_uri": "https://localhost:8080/"
        },
        "id": "AID_bvbtmlo1",
        "outputId": "16d10293-8e0a-4ce4-bba1-8ed56d7e8d44"
      },
      "execution_count": 7,
      "outputs": [
        {
          "output_type": "stream",
          "name": "stderr",
          "text": [
            "200it [01:05,  3.05it/s]\n"
          ]
        }
      ]
    },
    {
      "cell_type": "code",
      "source": [
        "# converting extracted_features to Pandas dataframe\n",
        "extracted_features_df=pd.DataFrame(extracted_features,columns=['feature','class'])\n",
        "extracted_features_df.head()"
      ],
      "metadata": {
        "colab": {
          "base_uri": "https://localhost:8080/",
          "height": 206
        },
        "id": "HlxA32H1nXq9",
        "outputId": "b0ab41da-3370-41fa-fa77-88b07ad40b49"
      },
      "execution_count": 8,
      "outputs": [
        {
          "output_type": "execute_result",
          "data": {
            "text/html": [
              "<div>\n",
              "<style scoped>\n",
              "    .dataframe tbody tr th:only-of-type {\n",
              "        vertical-align: middle;\n",
              "    }\n",
              "\n",
              "    .dataframe tbody tr th {\n",
              "        vertical-align: top;\n",
              "    }\n",
              "\n",
              "    .dataframe thead th {\n",
              "        text-align: right;\n",
              "    }\n",
              "</style>\n",
              "<table border=\"1\" class=\"dataframe\">\n",
              "  <thead>\n",
              "    <tr style=\"text-align: right;\">\n",
              "      <th></th>\n",
              "      <th>feature</th>\n",
              "      <th>class</th>\n",
              "    </tr>\n",
              "  </thead>\n",
              "  <tbody>\n",
              "    <tr>\n",
              "      <th>0</th>\n",
              "      <td>[-601.3449, 5.261408, -9.065388, -3.7297595, -...</td>\n",
              "      <td>dog</td>\n",
              "    </tr>\n",
              "    <tr>\n",
              "      <th>1</th>\n",
              "      <td>[-435.18063, 105.92404, 13.725261, 19.623205, ...</td>\n",
              "      <td>door_wood_knock</td>\n",
              "    </tr>\n",
              "    <tr>\n",
              "      <th>2</th>\n",
              "      <td>[-569.14136, 40.56101, 5.5717382, 4.1844625, 4...</td>\n",
              "      <td>door_wood_knock</td>\n",
              "    </tr>\n",
              "    <tr>\n",
              "      <th>3</th>\n",
              "      <td>[-641.6269, 39.85432, 3.6132596, 1.085563, 4.6...</td>\n",
              "      <td>door_wood_knock</td>\n",
              "    </tr>\n",
              "    <tr>\n",
              "      <th>4</th>\n",
              "      <td>[-94.37435, 46.090195, -62.937862, -19.831861,...</td>\n",
              "      <td>clapping</td>\n",
              "    </tr>\n",
              "  </tbody>\n",
              "</table>\n",
              "</div>"
            ],
            "text/plain": [
              "                                             feature            class\n",
              "0  [-601.3449, 5.261408, -9.065388, -3.7297595, -...              dog\n",
              "1  [-435.18063, 105.92404, 13.725261, 19.623205, ...  door_wood_knock\n",
              "2  [-569.14136, 40.56101, 5.5717382, 4.1844625, 4...  door_wood_knock\n",
              "3  [-641.6269, 39.85432, 3.6132596, 1.085563, 4.6...  door_wood_knock\n",
              "4  [-94.37435, 46.090195, -62.937862, -19.831861,...         clapping"
            ]
          },
          "metadata": {},
          "execution_count": 8
        }
      ]
    },
    {
      "cell_type": "code",
      "source": [
        "extracted_features_df['Label']=\" \""
      ],
      "metadata": {
        "id": "vzaDV9egnbGy"
      },
      "execution_count": 9,
      "outputs": []
    },
    {
      "cell_type": "code",
      "source": [
        "extracted_features_df.loc[extracted_features_df['class'].isin(['dog','door_wood_knock','rain','clapping']),'class'] = 'Not Cough'\n",
        "extracted_features_df.loc[extracted_features_df['class'].isin(['coughing']),'class'] = 'Cough'"
      ],
      "metadata": {
        "id": "gqigTcA3nt-o"
      },
      "execution_count": 10,
      "outputs": []
    },
    {
      "cell_type": "code",
      "source": [
        "extracted_features_df.loc[extracted_features_df['class'] == 'Cough' , 'Label'] = '0'\n",
        "extracted_features_df.loc[extracted_features_df['class'] == 'Not Cough' , 'Label'] = '1'"
      ],
      "metadata": {
        "id": "H7mZr3oMnxyg"
      },
      "execution_count": 11,
      "outputs": []
    },
    {
      "cell_type": "code",
      "source": [
        "extracted_features_df['Label'].value_counts()"
      ],
      "metadata": {
        "colab": {
          "base_uri": "https://localhost:8080/"
        },
        "id": "dzMIjgRxnzuW",
        "outputId": "f1fb1697-2608-4cd3-f4a2-83b286e2059b"
      },
      "execution_count": 12,
      "outputs": [
        {
          "output_type": "execute_result",
          "data": {
            "text/plain": [
              "1    160\n",
              "0     40\n",
              "Name: Label, dtype: int64"
            ]
          },
          "metadata": {},
          "execution_count": 12
        }
      ]
    },
    {
      "cell_type": "markdown",
      "source": [
        "For Teachable machine, we have uploaded 40 Cough files and 40 files from all other classes. So we will first get these files and make dataframes to hold the test and train data (30 for Train , and 10 for test in each class)"
      ],
      "metadata": {
        "id": "fb9COEvzn7Iz"
      }
    },
    {
      "cell_type": "code",
      "source": [
        "extracted_features_df.drop('class', axis=1, inplace=True)\n"
      ],
      "metadata": {
        "id": "fQiPL8pyoMfE"
      },
      "execution_count": 14,
      "outputs": []
    },
    {
      "cell_type": "code",
      "source": [
        "cough_df = extracted_features_df[extracted_features_df['Label'] =='0']\n",
        "cough_df.shape"
      ],
      "metadata": {
        "colab": {
          "base_uri": "https://localhost:8080/"
        },
        "id": "kKMwpBxsouLE",
        "outputId": "55f6cad1-9328-4ad0-c872-f5a014c4d8f3"
      },
      "execution_count": 16,
      "outputs": [
        {
          "output_type": "execute_result",
          "data": {
            "text/plain": [
              "(40, 2)"
            ]
          },
          "metadata": {},
          "execution_count": 16
        }
      ]
    },
    {
      "cell_type": "code",
      "source": [
        "not_cough_df = extracted_features_df[extracted_features_df['Label'] =='1']\n",
        "not_cough_df.shape"
      ],
      "metadata": {
        "colab": {
          "base_uri": "https://localhost:8080/"
        },
        "id": "3ZJhW0_Ko2fk",
        "outputId": "8ec02183-33e7-4db7-cf89-8d1f70ff6573"
      },
      "execution_count": 17,
      "outputs": [
        {
          "output_type": "execute_result",
          "data": {
            "text/plain": [
              "(160, 2)"
            ]
          },
          "metadata": {},
          "execution_count": 17
        }
      ]
    },
    {
      "cell_type": "code",
      "source": [
        "not_cough=not_cough_df.head(40)\n",
        "not_cough.shape"
      ],
      "metadata": {
        "colab": {
          "base_uri": "https://localhost:8080/"
        },
        "id": "yc3TMUS8o6zM",
        "outputId": "9615d476-8364-4aab-c70f-8d6af4fb19c2"
      },
      "execution_count": 18,
      "outputs": [
        {
          "output_type": "execute_result",
          "data": {
            "text/plain": [
              "(40, 2)"
            ]
          },
          "metadata": {},
          "execution_count": 18
        }
      ]
    },
    {
      "cell_type": "code",
      "source": [
        "not_cough['Label'] = pd.to_numeric(not_cough['Label'])"
      ],
      "metadata": {
        "id": "5AyO1dXkpcuT"
      },
      "execution_count": null,
      "outputs": []
    },
    {
      "cell_type": "code",
      "source": [
        "cough_df['Label'] = pd.to_numeric(cough_df['Label'])"
      ],
      "metadata": {
        "id": "deivEnxKsTe_"
      },
      "execution_count": null,
      "outputs": []
    },
    {
      "cell_type": "code",
      "source": [
        "# Splitting the Cough dataframe for Train and Test data\n",
        "cough_df_train=cough_df.head(30)\n",
        "cough_df_test=cough_df.tail(10)"
      ],
      "metadata": {
        "id": "eMy3nbfEpnpT"
      },
      "execution_count": 33,
      "outputs": []
    },
    {
      "cell_type": "code",
      "source": [
        "print(cough_df_train.shape)\n",
        "print(cough_df_test.shape)"
      ],
      "metadata": {
        "colab": {
          "base_uri": "https://localhost:8080/"
        },
        "id": "rCDYDLX2qVZj",
        "outputId": "bc6312b6-4e02-4562-9b59-8bdd93ecb31c"
      },
      "execution_count": 34,
      "outputs": [
        {
          "output_type": "stream",
          "name": "stdout",
          "text": [
            "(30, 2)\n",
            "(10, 2)\n"
          ]
        }
      ]
    },
    {
      "cell_type": "code",
      "source": [
        "# Splitting the Not Cough dataframe for Train and Test data\n",
        "not_cough_train=not_cough.head(30)\n",
        "not_cough_test=not_cough.tail(10)\n",
        "print(not_cough_train.shape)\n",
        "print(not_cough_test.shape)"
      ],
      "metadata": {
        "colab": {
          "base_uri": "https://localhost:8080/"
        },
        "id": "_Wb_pm6sqvoD",
        "outputId": "66865233-167d-4e33-b1d7-a3bf44c384a8"
      },
      "execution_count": 35,
      "outputs": [
        {
          "output_type": "stream",
          "name": "stdout",
          "text": [
            "(30, 2)\n",
            "(10, 2)\n"
          ]
        }
      ]
    },
    {
      "cell_type": "code",
      "source": [
        "# Combining the Test data for Cough and Not Cough data\n",
        "test_data_df=cough_df_test.append(not_cough_test)"
      ],
      "metadata": {
        "id": "5s-AhSmks0gz"
      },
      "execution_count": null,
      "outputs": []
    },
    {
      "cell_type": "code",
      "source": [
        "# Combining the Test data for Cough and Not Cough data\n",
        "train_data_df=cough_df_train.append(not_cough_train)"
      ],
      "metadata": {
        "id": "-8Z84oMMwt6p"
      },
      "execution_count": null,
      "outputs": []
    },
    {
      "cell_type": "markdown",
      "source": [
        "Evaluation the Model downloaded from Teachable Machine for Test data"
      ],
      "metadata": {
        "id": "GeJTequVxB5I"
      }
    },
    {
      "cell_type": "code",
      "source": [
        "# For Test Data (20 records)\n",
        "from keras.models import load_model\n",
        "from PIL import Image, ImageOps\n",
        "import numpy as np\n",
        "\n",
        "# Load the model and executing for Cough Test data\n",
        "model = load_model('/content/drive/MyDrive/keras_model.h5')\n",
        "model.compile(loss = 'binary_crossentropy',metrics=['accuracy'],optimizer='adam')\n",
        "\n",
        "# Create the array of the right shape to feed into the keras model\n",
        "# The 'length' or number of images you can put into the array is\n",
        "# determined by the first position in the shape tuple, in this case 1.\n",
        "data_test = np.ndarray(shape=(1,224, 224,3), dtype=np.float32)\n",
        "y_pred_test=[]\n",
        "# Replace this with the path to your image\n",
        "for i in range(31,51):\n",
        "  image1 = Image.open('/content/drive/MyDrive/ESC-50-master/Final-samples-for teachable/test_files_20/download ('+str(i)+').png').convert('RGB')\n",
        "  #resize the image to a 224x224 with the same strategy as in TM2:\n",
        "  #resizing the image to be at least 224x224 and then cropping from the center\n",
        "  size1 = (224, 224)\n",
        "  image1 = ImageOps.fit(image1, size1, Image.ANTIALIAS)\n",
        "\n",
        "  #turn the image into a numpy array\n",
        "  image_array1 = np.asarray(image1)\n",
        "  # Normalize the image\n",
        "  normalized_image_array1 = (image_array1.astype(np.float32) / 127.0) - 1\n",
        "  # Load the image into the array\n",
        "  data_test[0] = normalized_image_array1\n",
        "\n",
        "  # run the inference\n",
        "  prediction_test = model.predict(data_test)\n",
        "  predicted_class_test=np.argmax(prediction_test[0],axis=0)\n",
        "  y_pred_test.append(predicted_class_test)\n",
        "  print(prediction_test, predicted_class_test)"
      ],
      "metadata": {
        "colab": {
          "base_uri": "https://localhost:8080/"
        },
        "id": "JDGIA5etykJJ",
        "outputId": "d2da0736-2c12-43d8-e9f4-408155906685"
      },
      "execution_count": 58,
      "outputs": [
        {
          "output_type": "stream",
          "name": "stdout",
          "text": [
            "WARNING:tensorflow:No training configuration found in the save file, so the model was *not* compiled. Compile it manually.\n",
            "[[9.9999964e-01 3.0043617e-07]] 0\n",
            "[[0.96840936 0.03159064]] 0\n",
            "[[0.9989091  0.00109094]] 0\n",
            "[[0.993779   0.00622093]] 0\n",
            "[[9.994741e-01 5.258627e-04]] 0\n",
            "[[9.9950516e-01 4.9482082e-04]] 0\n",
            "[[0.9976681  0.00233186]] 0\n",
            "[[0.9989091  0.00109094]] 0\n",
            "[[0.99892706 0.00107289]] 0\n",
            "[[2.2544198e-05 9.9997747e-01]] 1\n",
            "[[1.4940782e-04 9.9985051e-01]] 1\n",
            "[[0.02348996 0.97651005]] 1\n",
            "[[0.2149468 0.7850532]] 1\n",
            "[[1.7029876e-04 9.9982965e-01]] 1\n",
            "[[0.43875158 0.5612485 ]] 1\n",
            "[[0.00535048 0.99464947]] 1\n",
            "[[0.9822609  0.01773907]] 0\n",
            "[[0.10512983 0.89487016]] 1\n",
            "[[0.9974529 0.0025471]] 0\n",
            "[[0.9535604  0.04643956]] 0\n"
          ]
        }
      ]
    },
    {
      "cell_type": "code",
      "source": [
        "from sklearn.metrics import classification_report, confusion_matrix\n",
        "# Classification Report for the Cough Test data\n",
        "print(classification_report(test_data_df['Label'].values,y_pred_test))\n",
        "cm_test=confusion_matrix(test_data_df['Label'].values,y_pred_test)\n",
        "cm_test"
      ],
      "metadata": {
        "colab": {
          "base_uri": "https://localhost:8080/"
        },
        "id": "uvEzHInOy1Of",
        "outputId": "1225d284-aeb1-486b-d917-8a9aecd0bfa9"
      },
      "execution_count": 59,
      "outputs": [
        {
          "output_type": "stream",
          "name": "stdout",
          "text": [
            "              precision    recall  f1-score   support\n",
            "\n",
            "           0       0.75      0.90      0.82        10\n",
            "           1       0.88      0.70      0.78        10\n",
            "\n",
            "    accuracy                           0.80        20\n",
            "   macro avg       0.81      0.80      0.80        20\n",
            "weighted avg       0.81      0.80      0.80        20\n",
            "\n"
          ]
        },
        {
          "output_type": "execute_result",
          "data": {
            "text/plain": [
              "array([[9, 1],\n",
              "       [3, 7]])"
            ]
          },
          "metadata": {},
          "execution_count": 59
        }
      ]
    },
    {
      "cell_type": "code",
      "source": [
        "ax= plt.subplot()\n",
        "sns.heatmap(cm_test, annot=True, fmt='g', ax=ax)\n",
        "ax.set_xlabel('Predicted labels');ax.set_ylabel('True labels') \n",
        "ax.set_title('Confusion Matrix for Test Data')\n",
        "ax.xaxis.set_ticklabels(['Cough', 'Not cough'])\n",
        "ax.yaxis.set_ticklabels(['Cough', ' Not cough'])"
      ],
      "metadata": {
        "colab": {
          "base_uri": "https://localhost:8080/",
          "height": 314
        },
        "id": "AawSuWnzzzDS",
        "outputId": "95215917-a608-47ee-86fc-62c96a5b2d8f"
      },
      "execution_count": 60,
      "outputs": [
        {
          "output_type": "execute_result",
          "data": {
            "text/plain": [
              "[Text(0, 0.5, 'Cough'), Text(0, 1.5, ' Not cough')]"
            ]
          },
          "metadata": {},
          "execution_count": 60
        },
        {
          "output_type": "display_data",
          "data": {
            "image/png": "[encoded data removed]",
            "text/plain": [
              "<Figure size 432x288 with 2 Axes>"
            ]
          },
          "metadata": {
            "needs_background": "light"
          }
        }
      ]
    },
    {
      "cell_type": "markdown",
      "source": [
        "Conclusion:\n",
        "\n",
        "The model from the Teachable Machine predicts the outcome with 80% accuracy on the test data and the Confusion matrix look fine. But however the data samples used here are very less and hence the performnace can be further improved by increasing the number of samples for the train and test dataset"
      ],
      "metadata": {
        "id": "FmyBtjmL1FPF"
      }
    }
  ]
}